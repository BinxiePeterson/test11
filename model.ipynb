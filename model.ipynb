{
  "cells": [
    {
      "cell_type": "raw",
      "metadata": {},
      "source": [
        "---\n",
        "title: \"Model\"\n",
        "format:\n",
        "  html:\n",
        "    code-fold: true\n",
        "---"
      ],
      "id": "4daf94ab"
    },
    {
      "cell_type": "code",
      "metadata": {},
      "source": [
        "from palmerpenguins import penguins\n",
        "from pandas import get_dummies\n",
        "import numpy as np\n",
        "from sklearn.linear_model import LinearRegression\n",
        "from sklearn import preprocessing"
      ],
      "id": "d8f849ed",
      "execution_count": null,
      "outputs": []
    },
    {
      "cell_type": "markdown",
      "metadata": {},
      "source": [
        "## Get Data\n"
      ],
      "id": "570b9100"
    },
    {
      "cell_type": "code",
      "metadata": {},
      "source": [
        "import duckdb\n",
        "from palmerpenguins import penguins\n",
        "\n",
        "con = duckdb.connect('my-db.duckdb')\n",
        "df = penguins.load_penguins()\n",
        "con.execute('CREATE OR REPLACE TABLE penguins AS SELECT * FROM df')\n",
        "con.close()\n",
        "\n",
        "con = duckdb.connect('my-db.duckdb')\n",
        "df = con.execute(\"SELECT * FROM penguins\").fetchdf().dropna()\n",
        "con.close()"
      ],
      "id": "37f6fea7",
      "execution_count": null,
      "outputs": []
    },
    {
      "cell_type": "markdown",
      "metadata": {},
      "source": [
        "## Define Model and Fit\n"
      ],
      "id": "c88e92b7"
    },
    {
      "cell_type": "code",
      "metadata": {},
      "source": [
        "X = get_dummies(df[['bill_length_mm', 'species', 'sex']], drop_first = True)\n",
        "y = df['body_mass_g']\n",
        "\n",
        "model = LinearRegression().fit(X, y)"
      ],
      "id": "8e7c3c92",
      "execution_count": null,
      "outputs": []
    },
    {
      "cell_type": "markdown",
      "metadata": {},
      "source": [
        "## Get some information\n"
      ],
      "id": "082774c5"
    },
    {
      "cell_type": "code",
      "metadata": {},
      "source": [
        "print(f\"R^2 {model.score(X,y)}\")\n",
        "print(f\"Intercept {model.intercept_}\")\n",
        "print(f\"Columns {X.columns}\")\n",
        "print(f\"Coefficients {model.coef_}\")"
      ],
      "id": "a5603376",
      "execution_count": null,
      "outputs": []
    },
    {
      "cell_type": "code",
      "metadata": {},
      "source": [
        "from vetiver import VetiverModel\n",
        "v = VetiverModel(model, model_name=\"penguin_model\", prototype_data=X)"
      ],
      "id": "ca5abb00",
      "execution_count": null,
      "outputs": []
    },
    {
      "cell_type": "code",
      "metadata": {},
      "source": [
        "import os\n",
        "\n",
        "# Create a directory to use as the pin board\n",
        "board_directory = \"data/model\"\n",
        "\n",
        "# Check if the directory already exists\n",
        "if not os.path.exists(board_directory):\n",
        "    # Create the directory\n",
        "    os.makedirs(board_directory)\n",
        "    print(\"Directory created successfully!\")"
      ],
      "id": "e6731368",
      "execution_count": null,
      "outputs": []
    },
    {
      "cell_type": "code",
      "metadata": {},
      "source": [
        "import pins\n",
        "from pins import board_folder\n",
        "from vetiver import VetiverModel\n",
        "from vetiver import VetiverAPI\n",
        "from vetiver import vetiver_pin_write\n",
        "from vetiver import write_app\n",
        "\n",
        "# Create a pin board and save (pin) the model\n",
        "model_board = pins.board_folder(path=\"data/model\", versioned=True, allow_pickle_read=True)\n",
        "\n",
        "# Pin the model to the board\n",
        "vetiver_pin_write(model_board, v)\n",
        "if not os.path.exists(f\"{board_directory}/penguin_model.py\"):\n",
        "  write_app(model_board, \"penguin_model\", file=board_directory + \"/penguin_model.py\")"
      ],
      "id": "376e44e0",
      "execution_count": null,
      "outputs": []
    },
    {
      "cell_type": "code",
      "metadata": {},
      "source": [
        "b = pins.board_folder('data/model', allow_pickle_read=True)\n",
        "v = VetiverModel.from_pin(b, 'penguin_model')"
      ],
      "id": "08e98272",
      "execution_count": null,
      "outputs": []
    },
    {
      "cell_type": "code",
      "metadata": {},
      "source": [
        "app = VetiverAPI(v, check_prototype=True)\n",
        "app.run(port=8080)"
      ],
      "id": "15e664b4",
      "execution_count": null,
      "outputs": []
    }
  ],
  "metadata": {
    "kernelspec": {
      "name": "python3",
      "language": "python",
      "display_name": "Python 3 (ipykernel)"
    }
  },
  "nbformat": 4,
  "nbformat_minor": 5
}